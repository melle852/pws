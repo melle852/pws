{
 "cells": [
  {
   "cell_type": "code",
   "execution_count": 1,
   "metadata": {
    "collapsed": true
   },
   "outputs": [],
   "source": [
    "import pandas as pd\n",
    "import numpy as np\n",
    "%matplotlib inline"
   ]
  },
  {
   "cell_type": "code",
   "execution_count": 2,
   "metadata": {
    "collapsed": true
   },
   "outputs": [],
   "source": [
    "df = pd.read_csv('data/horizons_europa.cgi', parse_dates=['            Calendar Date (TDB)'], index_col='            Calendar Date (TDB)')"
   ]
  },
  {
   "cell_type": "code",
   "execution_count": 3,
   "metadata": {},
   "outputs": [
    {
     "data": {
      "text/plain": [
       "Index(['JDTDB', 'X', 'Y', 'Z', 'VX', 'VY', 'VZ', 'X_s', 'Y_s', 'Z_s', 'VX_s',\n",
       "       'VY_s', 'VZ_s', 'Unnamed: 14'],\n",
       "      dtype='object')"
      ]
     },
     "execution_count": 3,
     "metadata": {},
     "output_type": "execute_result"
    }
   ],
   "source": [
    "df.columns = df.columns.str.strip()\n",
    "df.columns"
   ]
  },
  {
   "cell_type": "code",
   "execution_count": 4,
   "metadata": {
    "scrolled": false
   },
   "outputs": [
    {
     "data": {
      "text/html": [
       "<div>\n",
       "<style>\n",
       "    .dataframe thead tr:only-child th {\n",
       "        text-align: right;\n",
       "    }\n",
       "\n",
       "    .dataframe thead th {\n",
       "        text-align: left;\n",
       "    }\n",
       "\n",
       "    .dataframe tbody tr th {\n",
       "        vertical-align: top;\n",
       "    }\n",
       "</style>\n",
       "<table border=\"1\" class=\"dataframe\">\n",
       "  <thead>\n",
       "    <tr style=\"text-align: right;\">\n",
       "      <th></th>\n",
       "      <th>JDTDB</th>\n",
       "      <th>X</th>\n",
       "      <th>Y</th>\n",
       "      <th>Z</th>\n",
       "      <th>VX</th>\n",
       "      <th>VY</th>\n",
       "      <th>VZ</th>\n",
       "      <th>X_s</th>\n",
       "      <th>Y_s</th>\n",
       "      <th>Z_s</th>\n",
       "      <th>VX_s</th>\n",
       "      <th>VY_s</th>\n",
       "      <th>VZ_s</th>\n",
       "      <th>Unnamed: 14</th>\n",
       "    </tr>\n",
       "    <tr>\n",
       "      <th>Calendar Date (TDB)</th>\n",
       "      <th></th>\n",
       "      <th></th>\n",
       "      <th></th>\n",
       "      <th></th>\n",
       "      <th></th>\n",
       "      <th></th>\n",
       "      <th></th>\n",
       "      <th></th>\n",
       "      <th></th>\n",
       "      <th></th>\n",
       "      <th></th>\n",
       "      <th></th>\n",
       "      <th></th>\n",
       "      <th></th>\n",
       "    </tr>\n",
       "  </thead>\n",
       "  <tbody>\n",
       "    <tr>\n",
       "      <th>A.D. 2018-Jan-17 00:00:00.0000</th>\n",
       "      <td>2.458136e+06</td>\n",
       "      <td>-648281.901153</td>\n",
       "      <td>188928.093607</td>\n",
       "      <td>-4098.230586</td>\n",
       "      <td>-3.910114</td>\n",
       "      <td>-13.069994</td>\n",
       "      <td>-0.634477</td>\n",
       "      <td>n.a.</td>\n",
       "      <td>n.a.</td>\n",
       "      <td>n.a.</td>\n",
       "      <td>n.a.</td>\n",
       "      <td>n.a.</td>\n",
       "      <td>n.a.</td>\n",
       "      <td>NaN</td>\n",
       "    </tr>\n",
       "    <tr>\n",
       "      <th>A.D. 2018-Jan-17 04:00:00.0000</th>\n",
       "      <td>2.458136e+06</td>\n",
       "      <td>-676376.628378</td>\n",
       "      <td>-4611.937719</td>\n",
       "      <td>-12932.322129</td>\n",
       "      <td>0.032182</td>\n",
       "      <td>-13.619107</td>\n",
       "      <td>-0.583810</td>\n",
       "      <td>n.a.</td>\n",
       "      <td>n.a.</td>\n",
       "      <td>n.a.</td>\n",
       "      <td>n.a.</td>\n",
       "      <td>n.a.</td>\n",
       "      <td>n.a.</td>\n",
       "      <td>NaN</td>\n",
       "    </tr>\n",
       "    <tr>\n",
       "      <th>A.D. 2018-Jan-17 08:00:00.0000</th>\n",
       "      <td>2.458136e+06</td>\n",
       "      <td>-647452.402437</td>\n",
       "      <td>-197774.318572</td>\n",
       "      <td>-20676.560245</td>\n",
       "      <td>3.954460</td>\n",
       "      <td>-13.019599</td>\n",
       "      <td>-0.484226</td>\n",
       "      <td>n.a.</td>\n",
       "      <td>n.a.</td>\n",
       "      <td>n.a.</td>\n",
       "      <td>n.a.</td>\n",
       "      <td>n.a.</td>\n",
       "      <td>n.a.</td>\n",
       "      <td>NaN</td>\n",
       "    </tr>\n",
       "    <tr>\n",
       "      <th>A.D. 2018-Jan-17 12:00:00.0000</th>\n",
       "      <td>2.458136e+06</td>\n",
       "      <td>-564126.849839</td>\n",
       "      <td>-374321.475553</td>\n",
       "      <td>-26683.344526</td>\n",
       "      <td>7.536318</td>\n",
       "      <td>-11.328142</td>\n",
       "      <td>-0.344185</td>\n",
       "      <td>n.a.</td>\n",
       "      <td>n.a.</td>\n",
       "      <td>n.a.</td>\n",
       "      <td>n.a.</td>\n",
       "      <td>n.a.</td>\n",
       "      <td>n.a.</td>\n",
       "      <td>NaN</td>\n",
       "    </tr>\n",
       "    <tr>\n",
       "      <th>A.D. 2018-Jan-17 16:00:00.0000</th>\n",
       "      <td>2.458136e+06</td>\n",
       "      <td>-433448.221763</td>\n",
       "      <td>-519446.734629</td>\n",
       "      <td>-30449.891882</td>\n",
       "      <td>10.486082</td>\n",
       "      <td>-8.685352</td>\n",
       "      <td>-0.175220</td>\n",
       "      <td>n.a.</td>\n",
       "      <td>n.a.</td>\n",
       "      <td>n.a.</td>\n",
       "      <td>n.a.</td>\n",
       "      <td>n.a.</td>\n",
       "      <td>n.a.</td>\n",
       "      <td>NaN</td>\n",
       "    </tr>\n",
       "  </tbody>\n",
       "</table>\n",
       "</div>"
      ],
      "text/plain": [
       "                                        JDTDB              X              Y  \\\n",
       "            Calendar Date (TDB)                                               \n",
       " A.D. 2018-Jan-17 00:00:00.0000  2.458136e+06 -648281.901153  188928.093607   \n",
       " A.D. 2018-Jan-17 04:00:00.0000  2.458136e+06 -676376.628378   -4611.937719   \n",
       " A.D. 2018-Jan-17 08:00:00.0000  2.458136e+06 -647452.402437 -197774.318572   \n",
       " A.D. 2018-Jan-17 12:00:00.0000  2.458136e+06 -564126.849839 -374321.475553   \n",
       " A.D. 2018-Jan-17 16:00:00.0000  2.458136e+06 -433448.221763 -519446.734629   \n",
       "\n",
       "                                            Z         VX         VY        VZ  \\\n",
       "            Calendar Date (TDB)                                                 \n",
       " A.D. 2018-Jan-17 00:00:00.0000  -4098.230586  -3.910114 -13.069994 -0.634477   \n",
       " A.D. 2018-Jan-17 04:00:00.0000 -12932.322129   0.032182 -13.619107 -0.583810   \n",
       " A.D. 2018-Jan-17 08:00:00.0000 -20676.560245   3.954460 -13.019599 -0.484226   \n",
       " A.D. 2018-Jan-17 12:00:00.0000 -26683.344526   7.536318 -11.328142 -0.344185   \n",
       " A.D. 2018-Jan-17 16:00:00.0000 -30449.891882  10.486082  -8.685352 -0.175220   \n",
       "\n",
       "                                              X_s               Y_s  \\\n",
       "            Calendar Date (TDB)                                       \n",
       " A.D. 2018-Jan-17 00:00:00.0000              n.a.              n.a.   \n",
       " A.D. 2018-Jan-17 04:00:00.0000              n.a.              n.a.   \n",
       " A.D. 2018-Jan-17 08:00:00.0000              n.a.              n.a.   \n",
       " A.D. 2018-Jan-17 12:00:00.0000              n.a.              n.a.   \n",
       " A.D. 2018-Jan-17 16:00:00.0000              n.a.              n.a.   \n",
       "\n",
       "                                              Z_s              VX_s  \\\n",
       "            Calendar Date (TDB)                                       \n",
       " A.D. 2018-Jan-17 00:00:00.0000              n.a.              n.a.   \n",
       " A.D. 2018-Jan-17 04:00:00.0000              n.a.              n.a.   \n",
       " A.D. 2018-Jan-17 08:00:00.0000              n.a.              n.a.   \n",
       " A.D. 2018-Jan-17 12:00:00.0000              n.a.              n.a.   \n",
       " A.D. 2018-Jan-17 16:00:00.0000              n.a.              n.a.   \n",
       "\n",
       "                                             VY_s              VZ_s  \\\n",
       "            Calendar Date (TDB)                                       \n",
       " A.D. 2018-Jan-17 00:00:00.0000              n.a.              n.a.   \n",
       " A.D. 2018-Jan-17 04:00:00.0000              n.a.              n.a.   \n",
       " A.D. 2018-Jan-17 08:00:00.0000              n.a.              n.a.   \n",
       " A.D. 2018-Jan-17 12:00:00.0000              n.a.              n.a.   \n",
       " A.D. 2018-Jan-17 16:00:00.0000              n.a.              n.a.   \n",
       "\n",
       "                                 Unnamed: 14  \n",
       "            Calendar Date (TDB)               \n",
       " A.D. 2018-Jan-17 00:00:00.0000          NaN  \n",
       " A.D. 2018-Jan-17 04:00:00.0000          NaN  \n",
       " A.D. 2018-Jan-17 08:00:00.0000          NaN  \n",
       " A.D. 2018-Jan-17 12:00:00.0000          NaN  \n",
       " A.D. 2018-Jan-17 16:00:00.0000          NaN  "
      ]
     },
     "execution_count": 4,
     "metadata": {},
     "output_type": "execute_result"
    }
   ],
   "source": [
    "df[:5]"
   ]
  },
  {
   "cell_type": "code",
   "execution_count": 5,
   "metadata": {},
   "outputs": [
    {
     "data": {
      "text/plain": [
       "<matplotlib.axes._subplots.AxesSubplot at 0x7f868e764240>"
      ]
     },
     "execution_count": 5,
     "metadata": {},
     "output_type": "execute_result"
    },
    {
     "data": {
      "image/png": "[encoded data removed]",
      "text/plain": [
       "<matplotlib.figure.Figure at 0x7f868ea4a828>"
      ]
     },
     "metadata": {},
     "output_type": "display_data"
    }
   ],
   "source": [
    "df.plot(figsize=(12,6))"
   ]
  },
  {
   "cell_type": "code",
   "execution_count": null,
   "metadata": {
    "collapsed": true
   },
   "outputs": [],
   "source": []
  }
 ],
 "metadata": {
  "kernelspec": {
   "display_name": "Python 3",
   "language": "python",
   "name": "python3"
  },
  "language_info": {
   "codemirror_mode": {
    "name": "ipython",
    "version": 3
   },
   "file_extension": ".py",
   "mimetype": "text/x-python",
   "name": "python",
   "nbconvert_exporter": "python",
   "pygments_lexer": "ipython3",
   "version": "3.6.3"
  }
 },
 "nbformat": 4,
 "nbformat_minor": 2
}
